{
 "cells": [
  {
   "cell_type": "markdown",
   "metadata": {},
   "source": [
    "# Offshore Wind Site Suitability\n",
    "## Edward Xu\n"
   ]
  },
  {
   "cell_type": "markdown",
   "metadata": {},
   "source": [
    "#### Run this cell to connect to your GIS and get started:"
   ]
  },
  {
   "cell_type": "code",
   "execution_count": 37,
   "metadata": {
    "scrolled": true,
    "trusted": true
   },
   "outputs": [
    {
     "ename": "ModuleNotFoundError",
     "evalue": "No module named 'arcpy'",
     "output_type": "error",
     "traceback": [
      "\u001b[0;31m---------------------------------------------------------------------------\u001b[0m",
      "\u001b[0;31mModuleNotFoundError\u001b[0m                       Traceback (most recent call last)",
      "\u001b[0;32m/tmp/ipykernel_39/2204492497.py\u001b[0m in \u001b[0;36m<cell line: 5>\u001b[0;34m()\u001b[0m\n\u001b[1;32m      3\u001b[0m \u001b[0;32mimport\u001b[0m \u001b[0mpandas\u001b[0m \u001b[0;32mas\u001b[0m \u001b[0mpandas\u001b[0m\u001b[0;34m\u001b[0m\u001b[0;34m\u001b[0m\u001b[0m\n\u001b[1;32m      4\u001b[0m \u001b[0;32mimport\u001b[0m \u001b[0mmath\u001b[0m \u001b[0;32mas\u001b[0m \u001b[0mmath\u001b[0m\u001b[0;34m\u001b[0m\u001b[0;34m\u001b[0m\u001b[0m\n\u001b[0;32m----> 5\u001b[0;31m \u001b[0;32mimport\u001b[0m \u001b[0marcpy\u001b[0m\u001b[0;34m\u001b[0m\u001b[0;34m\u001b[0m\u001b[0m\n\u001b[0m",
      "\u001b[0;31mModuleNotFoundError\u001b[0m: No module named 'arcpy'"
     ]
    }
   ],
   "source": [
    "from arcgis.gis import GIS\n",
    "gis = GIS(\"home\")\n",
    "import pandas as pandas\n",
    "import math as math"
   ]
  },
  {
   "cell_type": "markdown",
   "metadata": {},
   "source": [
    "## Importing Geographic Variables"
   ]
  },
  {
   "cell_type": "code",
   "execution_count": 26,
   "metadata": {
    "scrolled": false,
    "trusted": true
   },
   "outputs": [
    {
     "data": {
      "text/html": [
       "<div class=\"item_container\" style=\"height: auto; overflow: hidden; border: 1px solid #cfcfcf; border-radius: 2px; background: #f6fafa; line-height: 1.21429em; padding: 10px;\">\n",
       "                    <div class=\"item_left\" style=\"width: 210px; float: left;\">\n",
       "                       <a href='https://www.arcgis.com/home/item.html?id=9b39bd5b4c2c4742b2c130721db7245f' target='_blank'>\n",
       "                        <img src='data:image/png;base64,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' width='200' height='133' class=\"itemThumbnail\">\n",
       "                       </a>\n",
       "                    </div>\n",
       "\n",
       "                    <div class=\"item_right\"     style=\"float: none; width: auto; overflow: hidden;\">\n",
       "                        <a href='https://www.arcgis.com/home/item.html?id=9b39bd5b4c2c4742b2c130721db7245f' target='_blank'><b>Updated LCOE Variables</b>\n",
       "                        </a>\n",
       "                        <br/><img src='https://www.arcgis.com/home/js/jsapi/esri/css/images/item_type_icons/featureshosted16.png' style=\"vertical-align:middle;\" width=16 height=16>Feature Layer Collection by edwardxu_UMass_Amherst\n",
       "                        <br/>Last Modified: May 16, 2024\n",
       "                        <br/>0 comments, 1 views\n",
       "                    </div>\n",
       "                </div>\n",
       "                "
      ],
      "text/plain": [
       "<Item title:\"Updated LCOE Variables\" type:Feature Layer Collection owner:edwardxu_UMass_Amherst>"
      ]
     },
     "execution_count": 26,
     "metadata": {},
     "output_type": "execute_result"
    }
   ],
   "source": [
    "# Item Added From Toolbar\n",
    "# Title: Updated LCOE Variables | Type: Feature Service | Owner: edwardxu_UMass_Amherst\n",
    "geography = gis.content.get(\"9b39bd5b4c2c4742b2c130721db7245f\")\n",
    "geography"
   ]
  },
  {
   "cell_type": "markdown",
   "metadata": {},
   "source": [
    "## Building a Spatial Dataframe"
   ]
  },
  {
   "cell_type": "code",
   "execution_count": 27,
   "metadata": {
    "scrolled": false,
    "trusted": true
   },
   "outputs": [
    {
     "name": "stdout",
     "output_type": "stream",
     "text": [
      "   Join_Count  DistanceToGridMeters      OPEX  pointid  AverageWindSpeed  \\\n",
      "0           0          49486.439825  26100000     2654           7.51787   \n",
      "1           0          48488.411428  26100000     2655           7.46405   \n",
      "2           0          47507.107273  26100000     2656           7.40662   \n",
      "3           1          46543.585246  32400000     2657            7.4236   \n",
      "4           1          45598.972644  32400000     2658           7.36171   \n",
      "5           1          44674.469018  32400000     2659           7.36171   \n",
      "6           1          43771.348616  32400000     2660           7.28533   \n",
      "7           1          42890.962258  32400000     2661           7.19046   \n",
      "8           1          42034.738461  32400000     2662           7.22991   \n",
      "9           1          41031.955889  32400000     2663           7.15169   \n",
      "\n",
      "   OBJECTID                                              SHAPE  \n",
      "0         1  {\"x\": -13904364.471642919, \"y\": 6150337.965924...  \n",
      "1         2  {\"x\": -13902364.010913603, \"y\": 6150337.965924...  \n",
      "2         3  {\"x\": -13900363.550184289, \"y\": 6150337.965924...  \n",
      "3         4  {\"x\": -13898363.089454979, \"y\": 6150337.965924...  \n",
      "4         5  {\"x\": -13896362.628725665, \"y\": 6150337.965924...  \n",
      "5         6  {\"x\": -13894362.167996349, \"y\": 6150337.965924...  \n",
      "6         7  {\"x\": -13892361.70726704, \"y\": 6150337.9659242...  \n",
      "7         8  {\"x\": -13890361.246537726, \"y\": 6150337.965924...  \n",
      "8         9  {\"x\": -13888360.785808416, \"y\": 6150337.965924...  \n",
      "9        10  {\"x\": -13886360.325079102, \"y\": 6150337.965924...  \n"
     ]
    }
   ],
   "source": [
    "# Access feature layer attribute table\n",
    "geography_featurelayer = geography.layers[0].query()\n",
    "\n",
    "# Convert the attribute table to a spatial dataframe\n",
    "geography_df = geography_featurelayer.sdf\n",
    "\n",
    "# Display the dataframe\n",
    "print(geography_df.head(10))"
   ]
  },
  {
   "cell_type": "markdown",
   "metadata": {
    "trusted": false
   },
   "source": [
    "## Calculating LCOE"
   ]
  },
  {
   "cell_type": "code",
   "execution_count": 31,
   "metadata": {
    "scrolled": true,
    "trusted": true
   },
   "outputs": [
    {
     "name": "stdout",
     "output_type": "stream",
     "text": [
      "   Join_Count  DistanceToGridMeters      OPEX  pointid  AverageWindSpeed  \\\n",
      "0           0          49486.439825  26100000     2654           7.51787   \n",
      "1           0          48488.411428  26100000     2655           7.46405   \n",
      "2           0          47507.107273  26100000     2656           7.40662   \n",
      "3           1          46543.585246  32400000     2657            7.4236   \n",
      "4           1          45598.972644  32400000     2658           7.36171   \n",
      "5           1          44674.469018  32400000     2659           7.36171   \n",
      "6           1          43771.348616  32400000     2660           7.28533   \n",
      "7           1          42890.962258  32400000     2661           7.19046   \n",
      "8           1          42034.738461  32400000     2662           7.22991   \n",
      "9           1          41031.955889  32400000     2663           7.15169   \n",
      "\n",
      "   OBJECTID                                              SHAPE           TNEP  \\\n",
      "0         1  {\"x\": -13904364.471642919, \"y\": 6150337.965924...  602001.055682   \n",
      "1         2  {\"x\": -13902364.010913603, \"y\": 6150337.965924...  589164.320246   \n",
      "2         3  {\"x\": -13900363.550184289, \"y\": 6150337.965924...  575669.219556   \n",
      "3         4  {\"x\": -13898363.089454979, \"y\": 6150337.965924...  579637.543747   \n",
      "4         5  {\"x\": -13896362.628725665, \"y\": 6150337.965924...  565260.884802   \n",
      "5         6  {\"x\": -13894362.167996349, \"y\": 6150337.965924...  565260.884802   \n",
      "6         7  {\"x\": -13892361.70726704, \"y\": 6150337.9659242...  547848.534033   \n",
      "7         8  {\"x\": -13890361.246537726, \"y\": 6150337.965924...   526723.67847   \n",
      "8         9  {\"x\": -13888360.785808416, \"y\": 6150337.965924...  535440.837719   \n",
      "9        10  {\"x\": -13886360.325079102, \"y\": 6150337.965924...  518249.463807   \n",
      "\n",
      "   DistanceFactor     CAPEX         Expenses      TotalCAPEX        LCOE  \n",
      "0   9897287.96508  57400000  97758152.225217  67297287.96508  162.388672  \n",
      "1    9697682.2856  57400000  97545612.097707   67097682.2856  165.566055  \n",
      "2   9501421.45456  57400000  97336633.564815  66901421.45456  169.084311  \n",
      "3   9308717.04926  47100000  92464001.914052  56408717.04926  159.520381  \n",
      "4   9119794.52884  47100000  92262837.214309  56219794.52884  163.221691  \n",
      "5   8934893.80364  47100000  92065954.922116  56034893.80364  162.873387  \n",
      "6   8754269.72324  47100000  91873626.401306  55854269.72324  167.698955  \n",
      "7   8578192.45164  47100000  91686139.322506  55678192.45164  174.068763  \n",
      "8   8406947.69216  47100000  91503797.902612  55506947.69216   170.89432  \n",
      "9   8206391.17776  47100000  91290245.326079  55306391.17776  176.151162  \n"
     ]
    }
   ],
   "source": [
    "## Calculating total net energy production over the course of a turbine's lifespan (25 years)\n",
    "geography_df['TNEP'] = geography_df['AverageWindSpeed'] ** 3 * 1.225 * 0.5 * 36000 * 219000 * 0.6 * 0.489 / 1000000\n",
    "\n",
    "## Calculating distance factor of 200\n",
    "geography_df['DistanceFactor'] = geography_df['DistanceToGridMeters'] * 200\n",
    "\n",
    "## Assigning fixed capital expenses\n",
    "geography_df['CAPEX'] = geography_df['Join_Count'].apply(lambda x: 47100000 if x == 1 else 57400000)\n",
    "\n",
    "## Including the distance factor in CAPEX calculations\n",
    "geography_df['TotalCAPEX'] = geography_df['CAPEX'] + geography_df['DistanceFactor']\n",
    "\n",
    "## Calculating total expenses\n",
    "geography_df['Expenses'] = (geography_df['TotalCAPEX'] * 1.0648) + geography_df['OPEX']\n",
    "\n",
    "## Calculating LCOE\n",
    "geography_df['LCOE'] = geography_df['Expenses'] / geography_df['TNEP']\n",
    "\n",
    "print(geography_df.head(10))"
   ]
  },
  {
   "cell_type": "markdown",
   "metadata": {},
   "source": [
    "## Exporting Feature Layer"
   ]
  },
  {
   "cell_type": "code",
   "execution_count": 43,
   "metadata": {
    "trusted": true
   },
   "outputs": [
    {
     "data": {
      "text/html": [
       "<div class=\"item_container\" style=\"height: auto; overflow: hidden; border: 1px solid #cfcfcf; border-radius: 2px; background: #f6fafa; line-height: 1.21429em; padding: 10px;\">\n",
       "                    <div class=\"item_left\" style=\"width: 210px; float: left;\">\n",
       "                       <a href='https://www.arcgis.com/home/item.html?id=9e67df9f042b44899b353133641b4c53' target='_blank'>\n",
       "                        <img src='http://static.arcgis.com/images/desktopapp.png' class=\"itemThumbnail\">\n",
       "                       </a>\n",
       "                    </div>\n",
       "\n",
       "                    <div class=\"item_right\"     style=\"float: none; width: auto; overflow: hidden;\">\n",
       "                        <a href='https://www.arcgis.com/home/item.html?id=9e67df9f042b44899b353133641b4c53' target='_blank'><b>LCOE</b>\n",
       "                        </a>\n",
       "                        <br/><img src='https://www.arcgis.com/home/js/jsapi/esri/css/images/item_type_icons/featureshosted16.png' style=\"vertical-align:middle;\" width=16 height=16>Feature Layer Collection by edwardxu_UMass_Amherst\n",
       "                        <br/>Last Modified: May 16, 2024\n",
       "                        <br/>0 comments, 0 views\n",
       "                    </div>\n",
       "                </div>\n",
       "                "
      ],
      "text/plain": [
       "<Item title:\"LCOE\" type:Feature Layer Collection owner:edwardxu_UMass_Amherst>"
      ]
     },
     "execution_count": 43,
     "metadata": {},
     "output_type": "execute_result"
    }
   ],
   "source": [
    "## Building point feature layerD from spatial dataframe\n",
    "geography_df.spatial.to_featurelayer(\"LCOE\")"
   ]
  }
 ],
 "metadata": {
  "esriNotebookRuntime": {
   "notebookRuntimeName": "ArcGIS Notebook Python 3 Standard",
   "notebookRuntimeVersion": "9.0"
  },
  "kernelspec": {
   "display_name": "Python 3 (ipykernel)",
   "language": "python",
   "name": "python3"
  },
  "language_info": {
   "codemirror_mode": {
    "name": "ipython",
    "version": 3
   },
   "file_extension": ".py",
   "mimetype": "text/x-python",
   "name": "python",
   "nbconvert_exporter": "python",
   "pygments_lexer": "ipython3",
   "version": "3.9.18"
  }
 },
 "nbformat": 4,
 "nbformat_minor": 2
}
